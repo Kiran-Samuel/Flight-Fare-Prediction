{
 "cells": [
  {
   "cell_type": "code",
   "execution_count": 1,
   "id": "d0df31bb",
   "metadata": {},
   "outputs": [],
   "source": [
    "import uvicorn\n",
    "from fastapi import FastAPI\n",
    "import numpy as np\n",
    "import pandas as pd\n",
    "import pickle\n",
    "from pydantic import BaseModel"
   ]
  },
  {
   "cell_type": "code",
   "execution_count": 2,
   "id": "58d7e78d",
   "metadata": {},
   "outputs": [],
   "source": [
    "description = \"\"\"\n",
    "The Flight fare prediction API helps you to determine the price of your next flight with just a few simple inputs\n",
    "\n",
    "# Items\n",
    "\n",
    "You can **predict** Flight fare rates\n",
    "\n",
    "# Users\n",
    "\n",
    "Just enter the fields below in the predict tab to make predictions\n",
    "\n",
    "All values are to be input as integers\n",
    "\n",
    "**Total_stops**: Number of stops required(Max 4)\n",
    "\n",
    "**Date**: Date of travel\n",
    "\n",
    "**Month**: Month of travel\n",
    "\n",
    "**Dep_hour**: Hour of yor departure(hour can be input in 24 hour format)\n",
    "\n",
    "**Dep_min**: Minute of your departure\n",
    "\n",
    "For the values below, Please input your preferred choice as per the keys shown below\n",
    "\n",
    "**Airline**: The airline you wish to travel by ('Air Asia': 0, 'Air India': 1, 'GoAir': 2, 'IndiGo': 3, 'Jet Airways': 4, 'Jet Airways Business': 5, 'Multiple carriers': 6, 'Multiple carriers Premium economy': 7, 'SpiceJet': 8, 'Vistara': 9, 'Vistara Premium economy': 10)\n",
    "\n",
    "**Source(From)**: Your port of departure ('Banglore': 0, 'Chennai': 1, 'Delhi': 2, 'Kolkata': 3, 'Mumbai': 4)\n",
    "\n",
    "**Destination(To)**: Your port of arrival ('Banglore': 0, 'Cochin': 1, 'Delhi': 2, 'Hyderabad': 3, 'Kolkata': 4)\n",
    "\n",
    "\"\"\""
   ]
  },
  {
   "cell_type": "code",
   "execution_count": 3,
   "id": "6859f9d8",
   "metadata": {},
   "outputs": [],
   "source": [
    "# Initializing the app object\n",
    "app = FastAPI(title= \"Flight fare\", description = description)"
   ]
  },
  {
   "cell_type": "code",
   "execution_count": 4,
   "id": "4b921298",
   "metadata": {},
   "outputs": [],
   "source": [
    "# Opening and loading pickled files\n",
    "pickle_in = open('rf_reg_model2.pkl',\"rb\")\n",
    "model = pickle.load(pickle_in)"
   ]
  },
  {
   "cell_type": "code",
   "execution_count": 5,
   "id": "aaf52dea",
   "metadata": {},
   "outputs": [],
   "source": [
    "@app.get('/')\n",
    "def index():\n",
    "    return {'Message': 'Welcome to Flight Fare prediction. Type /docs at the end of the above url'}\n"
   ]
  },
  {
   "cell_type": "code",
   "execution_count": 6,
   "id": "11b8c787",
   "metadata": {},
   "outputs": [],
   "source": [
    "class fare(BaseModel):\n",
    "    Total_Stops: int\n",
    "    Date: int\n",
    "    Month: int\n",
    "    Dep_hour: int\n",
    "    Dep_min: int\n",
    "    Airline: int\n",
    "    Source: int\n",
    "    Destination: int"
   ]
  },
  {
   "cell_type": "code",
   "execution_count": 7,
   "id": "3ad8a5a9",
   "metadata": {},
   "outputs": [],
   "source": [
    "@app.post('/predict')\n",
    "def predict(data: fare):\n",
    "    data = data.dict()\n",
    "    Total_Stops = data['Total_Stops']\n",
    "    Date = data['Date']\n",
    "    Month = data['Month']\n",
    "    Dep_hour = data['Dep_hour']\n",
    "    Dep_min = data['Dep_min']\n",
    "    Airline = data['Airline']\n",
    "    Source = data['Source']\n",
    "    Destination = data['Destination']\n",
    "\n",
    "\n",
    "    prediction=model.predict([[\n",
    "        Total_Stops,\n",
    "        Date,\n",
    "        Month,\n",
    "        Dep_hour,\n",
    "        Dep_min,\n",
    "        Airline,\n",
    "        Source,\n",
    "        Destination]])\n",
    "    \n",
    "    print(np.array(list(data.values())).reshape(1,-1))\n",
    "\n",
    "    output=round(prediction[0],2)\n",
    "    return {\"The Flight fare is Rs. {}\".format(output)}"
   ]
  },
  {
   "cell_type": "code",
   "execution_count": 8,
   "id": "bb6075c1",
   "metadata": {},
   "outputs": [],
   "source": [
    "import nest_asyncio\n",
    "nest_asyncio.apply()"
   ]
  },
  {
   "cell_type": "code",
   "execution_count": 9,
   "id": "b2d870c1",
   "metadata": {},
   "outputs": [
    {
     "name": "stderr",
     "output_type": "stream",
     "text": [
      "INFO:     Started server process [10312]\n",
      "INFO:     Waiting for application startup.\n",
      "INFO:     Application startup complete.\n",
      "INFO:     Uvicorn running on http://127.0.0.1:8000 (Press CTRL+C to quit)\n"
     ]
    },
    {
     "name": "stdout",
     "output_type": "stream",
     "text": [
      "INFO:     127.0.0.1:51758 - \"GET / HTTP/1.1\" 200 OK\n",
      "INFO:     127.0.0.1:51759 - \"GET /docs HTTP/1.1\" 200 OK\n",
      "INFO:     127.0.0.1:51759 - \"GET /openapi.json HTTP/1.1\" 200 OK\n",
      "[[ 1  6  6 17 30  4  2  1]]\n",
      "INFO:     127.0.0.1:51765 - \"POST /predict HTTP/1.1\" 200 OK\n",
      "[[ 0 24  6 23 55  0  0  2]]\n",
      "INFO:     127.0.0.1:51767 - \"POST /predict HTTP/1.1\" 200 OK\n"
     ]
    },
    {
     "name": "stderr",
     "output_type": "stream",
     "text": [
      "INFO:     Shutting down\n",
      "INFO:     Waiting for application shutdown.\n",
      "INFO:     Application shutdown complete.\n",
      "INFO:     Finished server process [10312]\n"
     ]
    }
   ],
   "source": [
    "if __name__ == '__main__':\n",
    "    uvicorn.run(app, host = '127.0.0.1', port = 8000)"
   ]
  },
  {
   "cell_type": "code",
   "execution_count": null,
   "id": "883ec473",
   "metadata": {},
   "outputs": [],
   "source": []
  }
 ],
 "metadata": {
  "kernelspec": {
   "display_name": "Python 3",
   "language": "python",
   "name": "python3"
  },
  "language_info": {
   "codemirror_mode": {
    "name": "ipython",
    "version": 3
   },
   "file_extension": ".py",
   "mimetype": "text/x-python",
   "name": "python",
   "nbconvert_exporter": "python",
   "pygments_lexer": "ipython3",
   "version": "3.7.13"
  }
 },
 "nbformat": 4,
 "nbformat_minor": 5
}
